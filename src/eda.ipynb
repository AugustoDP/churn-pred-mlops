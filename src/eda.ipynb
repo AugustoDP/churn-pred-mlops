{
 "cells": [
  {
   "cell_type": "code",
   "execution_count": 7,
   "metadata": {},
   "outputs": [
    {
     "name": "stdout",
     "output_type": "stream",
     "text": [
      "Requirement already satisfied: pandas in c:\\users\\muril\\onedrive\\documentos\\ufrgs-inf-eng-soft-app-data-science\\11.mlops\\churn-prediction-mlops\\venv\\lib\\site-packages (2.2.3)\n",
      "Requirement already satisfied: seaborn in c:\\users\\muril\\onedrive\\documentos\\ufrgs-inf-eng-soft-app-data-science\\11.mlops\\churn-prediction-mlops\\venv\\lib\\site-packages (0.13.2)\n",
      "Requirement already satisfied: matplotlib in c:\\users\\muril\\onedrive\\documentos\\ufrgs-inf-eng-soft-app-data-science\\11.mlops\\churn-prediction-mlops\\venv\\lib\\site-packages (3.10.1)\n",
      "Requirement already satisfied: numpy>=1.23.2 in c:\\users\\muril\\onedrive\\documentos\\ufrgs-inf-eng-soft-app-data-science\\11.mlops\\churn-prediction-mlops\\venv\\lib\\site-packages (from pandas) (2.2.4)\n",
      "Requirement already satisfied: python-dateutil>=2.8.2 in c:\\users\\muril\\onedrive\\documentos\\ufrgs-inf-eng-soft-app-data-science\\11.mlops\\churn-prediction-mlops\\venv\\lib\\site-packages (from pandas) (2.9.0.post0)\n",
      "Requirement already satisfied: pytz>=2020.1 in c:\\users\\muril\\onedrive\\documentos\\ufrgs-inf-eng-soft-app-data-science\\11.mlops\\churn-prediction-mlops\\venv\\lib\\site-packages (from pandas) (2025.2)\n",
      "Requirement already satisfied: tzdata>=2022.7 in c:\\users\\muril\\onedrive\\documentos\\ufrgs-inf-eng-soft-app-data-science\\11.mlops\\churn-prediction-mlops\\venv\\lib\\site-packages (from pandas) (2025.2)\n",
      "Requirement already satisfied: contourpy>=1.0.1 in c:\\users\\muril\\onedrive\\documentos\\ufrgs-inf-eng-soft-app-data-science\\11.mlops\\churn-prediction-mlops\\venv\\lib\\site-packages (from matplotlib) (1.3.2)\n",
      "Requirement already satisfied: cycler>=0.10 in c:\\users\\muril\\onedrive\\documentos\\ufrgs-inf-eng-soft-app-data-science\\11.mlops\\churn-prediction-mlops\\venv\\lib\\site-packages (from matplotlib) (0.12.1)\n",
      "Requirement already satisfied: fonttools>=4.22.0 in c:\\users\\muril\\onedrive\\documentos\\ufrgs-inf-eng-soft-app-data-science\\11.mlops\\churn-prediction-mlops\\venv\\lib\\site-packages (from matplotlib) (4.57.0)\n",
      "Requirement already satisfied: kiwisolver>=1.3.1 in c:\\users\\muril\\onedrive\\documentos\\ufrgs-inf-eng-soft-app-data-science\\11.mlops\\churn-prediction-mlops\\venv\\lib\\site-packages (from matplotlib) (1.4.8)\n",
      "Requirement already satisfied: packaging>=20.0 in c:\\users\\muril\\onedrive\\documentos\\ufrgs-inf-eng-soft-app-data-science\\11.mlops\\churn-prediction-mlops\\venv\\lib\\site-packages (from matplotlib) (24.2)\n",
      "Requirement already satisfied: pillow>=8 in c:\\users\\muril\\onedrive\\documentos\\ufrgs-inf-eng-soft-app-data-science\\11.mlops\\churn-prediction-mlops\\venv\\lib\\site-packages (from matplotlib) (11.2.1)\n",
      "Requirement already satisfied: pyparsing>=2.3.1 in c:\\users\\muril\\onedrive\\documentos\\ufrgs-inf-eng-soft-app-data-science\\11.mlops\\churn-prediction-mlops\\venv\\lib\\site-packages (from matplotlib) (3.2.3)\n",
      "Requirement already satisfied: six>=1.5 in c:\\users\\muril\\onedrive\\documentos\\ufrgs-inf-eng-soft-app-data-science\\11.mlops\\churn-prediction-mlops\\venv\\lib\\site-packages (from python-dateutil>=2.8.2->pandas) (1.17.0)\n"
     ]
    },
    {
     "name": "stderr",
     "output_type": "stream",
     "text": [
      "\n",
      "[notice] A new release of pip is available: 24.0 -> 25.0.1\n",
      "[notice] To update, run: python.exe -m pip install --upgrade pip\n"
     ]
    }
   ],
   "source": [
    "!pip install pandas seaborn matplotlib"
   ]
  },
  {
   "cell_type": "code",
   "execution_count": 8,
   "metadata": {},
   "outputs": [],
   "source": [
    "import pandas as pd\n",
    "import seaborn as sns\n",
    "import matplotlib.pyplot as plt\n",
    "import os"
   ]
  },
  {
   "cell_type": "code",
   "execution_count": 10,
   "metadata": {},
   "outputs": [],
   "source": [
    "sns.set(style=\"whitegrid\")\n",
    "plt.rcParams[\"figure.figsize\"] = (10, 6)\n",
    "\n",
    "data_path = os.path.join(\"..\", \"data\", \"raw\", \"customer_churn_dataset.csv\")\n",
    "df = pd.read_csv(data_path)"
   ]
  },
  {
   "cell_type": "code",
   "execution_count": 11,
   "metadata": {},
   "outputs": [
    {
     "name": "stdout",
     "output_type": "stream",
     "text": [
      "\n",
      " -Shape: (1000, 7)\n",
      "\n",
      " -Tipos de dados:\n",
      "Customer_ID             int64\n",
      "Age                     int64\n",
      "Gender                  int64\n",
      "Monthly_Spending        int64\n",
      "Subscription_Length     int64\n",
      "Support_Interactions    int64\n",
      "Churn                   int64\n",
      "dtype: object\n"
     ]
    }
   ],
   "source": [
    "print(\"\\n -Shape:\", df.shape)\n",
    "print(\"\\n -Tipos de dados:\")\n",
    "print(df.dtypes)"
   ]
  },
  {
   "cell_type": "code",
   "execution_count": 15,
   "metadata": {},
   "outputs": [],
   "source": [
    "df = df.drop(\"Customer_ID\", axis=1)"
   ]
  },
  {
   "cell_type": "code",
   "execution_count": 16,
   "metadata": {},
   "outputs": [
    {
     "name": "stdout",
     "output_type": "stream",
     "text": [
      "Estatísticas descritivas:\n",
      "                Age       Gender  Monthly_Spending  Subscription_Length  \\\n",
      "count  1000.000000  1000.000000       1000.000000          1000.000000   \n",
      "mean     44.385000     0.476000        275.791000             4.973000   \n",
      "std      15.321669     0.499674        131.061193             2.555152   \n",
      "min      18.000000     0.000000         50.000000             1.000000   \n",
      "25%      31.750000     0.000000        166.000000             3.000000   \n",
      "50%      45.000000     0.000000        278.000000             5.000000   \n",
      "75%      57.000000     1.000000        387.250000             7.000000   \n",
      "max      70.000000     1.000000        500.000000             9.000000   \n",
      "\n",
      "       Support_Interactions        Churn  \n",
      "count           1000.000000  1000.000000  \n",
      "mean               1.959000     0.242000  \n",
      "std                1.435053     0.428509  \n",
      "min                0.000000     0.000000  \n",
      "25%                1.000000     0.000000  \n",
      "50%                2.000000     0.000000  \n",
      "75%                3.000000     0.000000  \n",
      "max                4.000000     1.000000  \n"
     ]
    }
   ],
   "source": [
    "print(\"Estatísticas descritivas:\\n\", df.describe())"
   ]
  },
  {
   "cell_type": "code",
   "execution_count": 18,
   "metadata": {},
   "outputs": [
    {
     "name": "stderr",
     "output_type": "stream",
     "text": [
      "C:\\Users\\muril\\AppData\\Local\\Temp\\ipykernel_26648\\2778692518.py:1: FutureWarning: \n",
      "\n",
      "Passing `palette` without assigning `hue` is deprecated and will be removed in v0.14.0. Assign the `x` variable to `hue` and set `legend=False` for the same effect.\n",
      "\n",
      "  sns.countplot(data=df, x=\"Churn\", palette=\"pastel\")\n"
     ]
    }
   ],
   "source": [
    "sns.countplot(data=df, x=\"Churn\", palette=\"pastel\")\n",
    "plt.title(\"Distribuição de Churn\")\n",
    "plt.savefig(\"figs/churn_count.png\")\n",
    "plt.close()"
   ]
  },
  {
   "cell_type": "code",
   "execution_count": 19,
   "metadata": {},
   "outputs": [],
   "source": [
    "num_cols = df.columns.difference([\"Churn\"])\n",
    "df[num_cols].hist(bins=15, figsize=(12, 8))\n",
    "plt.tight_layout()\n",
    "plt.savefig(\"figs/histogramas_numericas.png\")\n",
    "plt.close()"
   ]
  },
  {
   "cell_type": "code",
   "execution_count": 20,
   "metadata": {},
   "outputs": [],
   "source": [
    "corr = df.corr()\n",
    "sns.heatmap(corr, annot=True, cmap=\"coolwarm\")\n",
    "plt.title(\"Mapa de Correlações\")\n",
    "plt.savefig(\"figs/correlograma.png\")\n",
    "plt.close()"
   ]
  }
 ],
 "metadata": {
  "kernelspec": {
   "display_name": "venv",
   "language": "python",
   "name": "python3"
  },
  "language_info": {
   "codemirror_mode": {
    "name": "ipython",
    "version": 3
   },
   "file_extension": ".py",
   "mimetype": "text/x-python",
   "name": "python",
   "nbconvert_exporter": "python",
   "pygments_lexer": "ipython3",
   "version": "3.11.9"
  }
 },
 "nbformat": 4,
 "nbformat_minor": 2
}
